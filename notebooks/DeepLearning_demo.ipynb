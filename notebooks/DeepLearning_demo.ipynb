{
 "cells": [
  {
   "cell_type": "code",
   "execution_count": 1,
   "metadata": {},
   "outputs": [
    {
     "data": {
      "application/javascript": [
       "\n",
       "require(['notebook'],\n",
       "  function() {\n",
       "    IPython.CodeCell.config_defaults.highlight_modes['magic_text/x-c++src'] = {'reg':[/^%%cpp/]};\n",
       "    console.log(\"JupyROOT - %%cpp magic configured\");\n",
       "  }\n",
       ");\n"
      ]
     },
     "metadata": {},
     "output_type": "display_data"
    },
    {
     "name": "stdout",
     "output_type": "stream",
     "text": [
      "Welcome to JupyROOT 6.09/01\n"
     ]
    }
   ],
   "source": [
    "#Enables matplotlib plotting\n",
    "%matplotlib inline\n",
    "\n",
    "#Packages required for easy handling of data in python\n",
    "from root_pandas import read_root\n",
    "from sklearn.model_selection import train_test_split\n",
    "import pandas as pd\n",
    "import wget\n",
    "import numpy as np\n",
    "import matplotlib.pyplot as plt\n",
    "import seaborn as sns\n",
    "sns.set(color_codes=True)"
   ]
  },
  {
   "cell_type": "code",
   "execution_count": 1,
   "metadata": {},
   "outputs": [
    {
     "ename": "ImportError",
     "evalue": "dynamic module does not define module export function (PyInit_libPyROOT)",
     "output_type": "error",
     "traceback": [
      "\u001b[0;31m---------------------------------------------------------------------------\u001b[0m",
      "\u001b[0;31mImportError\u001b[0m                               Traceback (most recent call last)",
      "\u001b[0;32m<ipython-input-1-ee8dc4376aa8>\u001b[0m in \u001b[0;36m<module>\u001b[0;34m()\u001b[0m\n\u001b[0;32m----> 1\u001b[0;31m \u001b[0;32mimport\u001b[0m \u001b[0mROOT\u001b[0m\u001b[0;34m\u001b[0m\u001b[0m\n\u001b[0m",
      "\u001b[0;32m~/Downloads/root_v6.14.06.macosx64-10.12-clang90/lib/ROOT.py\u001b[0m in \u001b[0;36m<module>\u001b[0;34m()\u001b[0m\n\u001b[1;32m     22\u001b[0m \u001b[0;31m### system and interpreter setup ------------------------------------------------\u001b[0m\u001b[0;34m\u001b[0m\u001b[0;34m\u001b[0m\u001b[0m\n\u001b[1;32m     23\u001b[0m \u001b[0;32mimport\u001b[0m \u001b[0mos\u001b[0m\u001b[0;34m,\u001b[0m \u001b[0msys\u001b[0m\u001b[0;34m,\u001b[0m \u001b[0mtypes\u001b[0m\u001b[0;34m\u001b[0m\u001b[0m\n\u001b[0;32m---> 24\u001b[0;31m \u001b[0;32mimport\u001b[0m \u001b[0mcppyy\u001b[0m\u001b[0;34m\u001b[0m\u001b[0m\n\u001b[0m\u001b[1;32m     25\u001b[0m \u001b[0;34m\u001b[0m\u001b[0m\n\u001b[1;32m     26\u001b[0m \u001b[0;34m\u001b[0m\u001b[0m\n",
      "\u001b[0;32m~/Downloads/root_v6.14.06.macosx64-10.12-clang90/lib/cppyy.py\u001b[0m in \u001b[0;36m<module>\u001b[0;34m()\u001b[0m\n\u001b[1;32m     59\u001b[0m       \u001b[0msys\u001b[0m\u001b[0;34m.\u001b[0m\u001b[0msetdlopenflags\u001b[0m\u001b[0;34m(\u001b[0m \u001b[0;36m0x100\u001b[0m \u001b[0;34m|\u001b[0m \u001b[0;36m0x2\u001b[0m \u001b[0;34m)\u001b[0m    \u001b[0;31m# RTLD_GLOBAL | RTLD_NOW\u001b[0m\u001b[0;34m\u001b[0m\u001b[0m\n\u001b[1;32m     60\u001b[0m \u001b[0;34m\u001b[0m\u001b[0m\n\u001b[0;32m---> 61\u001b[0;31m    \u001b[0;32mimport\u001b[0m \u001b[0mlibPyROOT\u001b[0m \u001b[0;32mas\u001b[0m \u001b[0m_backend\u001b[0m\u001b[0;34m\u001b[0m\u001b[0m\n\u001b[0m\u001b[1;32m     62\u001b[0m \u001b[0;34m\u001b[0m\u001b[0m\n\u001b[1;32m     63\u001b[0m    \u001b[0;31m# reset dl flags if needed\u001b[0m\u001b[0;34m\u001b[0m\u001b[0;34m\u001b[0m\u001b[0m\n",
      "\u001b[0;31mImportError\u001b[0m: dynamic module does not define module export function (PyInit_libPyROOT)"
     ]
    }
   ],
   "source": [
    "import ROOT"
   ]
  },
  {
   "cell_type": "code",
   "execution_count": 2,
   "metadata": {},
   "outputs": [
    {
     "ename": "ImportError",
     "evalue": "dynamic module does not define module export function (PyInit_libPyROOT)",
     "output_type": "error",
     "traceback": [
      "\u001b[0;31m---------------------------------------------------------------------------\u001b[0m",
      "\u001b[0;31mImportError\u001b[0m                               Traceback (most recent call last)",
      "\u001b[0;32m<ipython-input-2-ee8dc4376aa8>\u001b[0m in \u001b[0;36m<module>\u001b[0;34m()\u001b[0m\n\u001b[0;32m----> 1\u001b[0;31m \u001b[0;32mimport\u001b[0m \u001b[0mROOT\u001b[0m\u001b[0;34m\u001b[0m\u001b[0m\n\u001b[0m",
      "\u001b[0;32m~/Downloads/root_v6.14.06.macosx64-10.12-clang90/lib/ROOT.py\u001b[0m in \u001b[0;36m<module>\u001b[0;34m()\u001b[0m\n\u001b[1;32m     22\u001b[0m \u001b[0;31m### system and interpreter setup ------------------------------------------------\u001b[0m\u001b[0;34m\u001b[0m\u001b[0;34m\u001b[0m\u001b[0m\n\u001b[1;32m     23\u001b[0m \u001b[0;32mimport\u001b[0m \u001b[0mos\u001b[0m\u001b[0;34m,\u001b[0m \u001b[0msys\u001b[0m\u001b[0;34m,\u001b[0m \u001b[0mtypes\u001b[0m\u001b[0;34m\u001b[0m\u001b[0m\n\u001b[0;32m---> 24\u001b[0;31m \u001b[0;32mimport\u001b[0m \u001b[0mcppyy\u001b[0m\u001b[0;34m\u001b[0m\u001b[0m\n\u001b[0m\u001b[1;32m     25\u001b[0m \u001b[0;34m\u001b[0m\u001b[0m\n\u001b[1;32m     26\u001b[0m \u001b[0;34m\u001b[0m\u001b[0m\n",
      "\u001b[0;32m~/Downloads/root_v6.14.06.macosx64-10.12-clang90/lib/cppyy.py\u001b[0m in \u001b[0;36m<module>\u001b[0;34m()\u001b[0m\n\u001b[1;32m     59\u001b[0m       \u001b[0msys\u001b[0m\u001b[0;34m.\u001b[0m\u001b[0msetdlopenflags\u001b[0m\u001b[0;34m(\u001b[0m \u001b[0;36m0x100\u001b[0m \u001b[0;34m|\u001b[0m \u001b[0;36m0x2\u001b[0m \u001b[0;34m)\u001b[0m    \u001b[0;31m# RTLD_GLOBAL | RTLD_NOW\u001b[0m\u001b[0;34m\u001b[0m\u001b[0m\n\u001b[1;32m     60\u001b[0m \u001b[0;34m\u001b[0m\u001b[0m\n\u001b[0;32m---> 61\u001b[0;31m    \u001b[0;32mimport\u001b[0m \u001b[0mlibPyROOT\u001b[0m \u001b[0;32mas\u001b[0m \u001b[0m_backend\u001b[0m\u001b[0;34m\u001b[0m\u001b[0m\n\u001b[0m\u001b[1;32m     62\u001b[0m \u001b[0;34m\u001b[0m\u001b[0m\n\u001b[1;32m     63\u001b[0m    \u001b[0;31m# reset dl flags if needed\u001b[0m\u001b[0;34m\u001b[0m\u001b[0;34m\u001b[0m\u001b[0m\n",
      "\u001b[0;31mImportError\u001b[0m: dynamic module does not define module export function (PyInit_libPyROOT)"
     ]
    }
   ],
   "source": [
    "import ROOT"
   ]
  },
  {
   "cell_type": "code",
   "execution_count": 2,
   "metadata": {},
   "outputs": [
    {
     "data": {
      "text/plain": [
       "'preprocessed_files (1).root'"
      ]
     },
     "execution_count": 2,
     "metadata": {},
     "output_type": "execute_result"
    }
   ],
   "source": [
    "#Download the dataset. Takes a while, file is 800MB. Due to a slight complication with jupyter notebooks,\n",
    "#the progress bar is not displayed, so be patient.\n",
    "wget.download('https://cernbox.cern.ch/index.php/s/ibtnI2ESaFjIgSi/download')"
   ]
  },
  {
   "cell_type": "markdown",
   "metadata": {},
   "source": [
    "# Classifying quark and gluon jets using a deep neural network\n",
    "\n",
    "The task of correctly identifying whether jet originated from a gluon or quark is important for almost any analysis of proton-proton collisions. This information is used to identify collision events that might contain interesting new physics and also correcting for detector effects in measured energies of jets.\n",
    "\n",
    "As jets are objects created due to a color charge carrying particle hadronizing into a host of particles color neutral particles. This is a manifestation of the color confinement of the Strong interaction. Even though determining the particle that originated the jet is not directly visible from the end state particles, it can be inferred from the properties of the jet. Whether the initial particle was a gluon or quark affects the measurable distributions of the particles within the jet.\n",
    "\n",
    "Let us begin by loading a sample of simulated quark and gluon jets, and inspecting its contents"
   ]
  },
  {
   "cell_type": "code",
   "execution_count": 3,
   "metadata": {},
   "outputs": [
    {
     "data": {
      "text/html": [
       "<div>\n",
       "<style scoped>\n",
       "    .dataframe tbody tr th:only-of-type {\n",
       "        vertical-align: middle;\n",
       "    }\n",
       "\n",
       "    .dataframe tbody tr th {\n",
       "        vertical-align: top;\n",
       "    }\n",
       "\n",
       "    .dataframe thead th {\n",
       "        text-align: right;\n",
       "    }\n",
       "</style>\n",
       "<table border=\"1\" class=\"dataframe\">\n",
       "  <thead>\n",
       "    <tr style=\"text-align: right;\">\n",
       "      <th></th>\n",
       "      <th>Cpfcan_pt0</th>\n",
       "      <th>Cpfcan_pt1</th>\n",
       "      <th>Cpfcan_pt2</th>\n",
       "      <th>Cpfcan_pt3</th>\n",
       "      <th>Cpfcan_pt4</th>\n",
       "      <th>Cpfcan_pt5</th>\n",
       "      <th>Cpfcan_pt6</th>\n",
       "      <th>Cpfcan_pt7</th>\n",
       "      <th>Cpfcan_pt8</th>\n",
       "      <th>Cpfcan_pt9</th>\n",
       "      <th>...</th>\n",
       "      <th>Npfcan_phi6</th>\n",
       "      <th>Npfcan_phi7</th>\n",
       "      <th>Npfcan_phi8</th>\n",
       "      <th>Npfcan_phi9</th>\n",
       "      <th>QG_ptD</th>\n",
       "      <th>QG_axis2</th>\n",
       "      <th>QG_mult</th>\n",
       "      <th>jet_eta</th>\n",
       "      <th>isPhysG</th>\n",
       "      <th>isPhysUD</th>\n",
       "    </tr>\n",
       "  </thead>\n",
       "  <tbody>\n",
       "    <tr>\n",
       "      <th>0</th>\n",
       "      <td>22.390625</td>\n",
       "      <td>8.460938</td>\n",
       "      <td>7.640625</td>\n",
       "      <td>2.712891</td>\n",
       "      <td>2.423828</td>\n",
       "      <td>1.915039</td>\n",
       "      <td>0.895020</td>\n",
       "      <td>0.758301</td>\n",
       "      <td>0.651855</td>\n",
       "      <td>0.562988</td>\n",
       "      <td>...</td>\n",
       "      <td>-0.888218</td>\n",
       "      <td>-1.059401</td>\n",
       "      <td>-0.865647</td>\n",
       "      <td>-0.894262</td>\n",
       "      <td>0.437698</td>\n",
       "      <td>0.024528</td>\n",
       "      <td>11.0</td>\n",
       "      <td>-0.928761</td>\n",
       "      <td>0</td>\n",
       "      <td>1</td>\n",
       "    </tr>\n",
       "    <tr>\n",
       "      <th>1</th>\n",
       "      <td>14.210938</td>\n",
       "      <td>5.058594</td>\n",
       "      <td>4.914062</td>\n",
       "      <td>4.488281</td>\n",
       "      <td>4.335938</td>\n",
       "      <td>3.667969</td>\n",
       "      <td>3.531250</td>\n",
       "      <td>2.900391</td>\n",
       "      <td>2.341797</td>\n",
       "      <td>1.716797</td>\n",
       "      <td>...</td>\n",
       "      <td>0.526001</td>\n",
       "      <td>0.753140</td>\n",
       "      <td>0.292091</td>\n",
       "      <td>0.367193</td>\n",
       "      <td>0.294737</td>\n",
       "      <td>0.054523</td>\n",
       "      <td>19.0</td>\n",
       "      <td>1.158933</td>\n",
       "      <td>1</td>\n",
       "      <td>0</td>\n",
       "    </tr>\n",
       "    <tr>\n",
       "      <th>2</th>\n",
       "      <td>8.828125</td>\n",
       "      <td>3.658203</td>\n",
       "      <td>1.439453</td>\n",
       "      <td>1.288086</td>\n",
       "      <td>0.772461</td>\n",
       "      <td>0.737793</td>\n",
       "      <td>0.000000</td>\n",
       "      <td>0.000000</td>\n",
       "      <td>0.000000</td>\n",
       "      <td>0.000000</td>\n",
       "      <td>...</td>\n",
       "      <td>0.000000</td>\n",
       "      <td>0.000000</td>\n",
       "      <td>0.000000</td>\n",
       "      <td>0.000000</td>\n",
       "      <td>0.424963</td>\n",
       "      <td>0.050448</td>\n",
       "      <td>9.0</td>\n",
       "      <td>-0.011784</td>\n",
       "      <td>0</td>\n",
       "      <td>1</td>\n",
       "    </tr>\n",
       "    <tr>\n",
       "      <th>3</th>\n",
       "      <td>9.109375</td>\n",
       "      <td>5.687500</td>\n",
       "      <td>2.595703</td>\n",
       "      <td>2.337891</td>\n",
       "      <td>2.035156</td>\n",
       "      <td>1.505859</td>\n",
       "      <td>1.393555</td>\n",
       "      <td>1.278320</td>\n",
       "      <td>0.881348</td>\n",
       "      <td>0.865723</td>\n",
       "      <td>...</td>\n",
       "      <td>-2.019097</td>\n",
       "      <td>-1.984820</td>\n",
       "      <td>-2.134338</td>\n",
       "      <td>0.000000</td>\n",
       "      <td>0.323849</td>\n",
       "      <td>0.044977</td>\n",
       "      <td>15.0</td>\n",
       "      <td>-1.057207</td>\n",
       "      <td>1</td>\n",
       "      <td>0</td>\n",
       "    </tr>\n",
       "    <tr>\n",
       "      <th>4</th>\n",
       "      <td>8.960938</td>\n",
       "      <td>7.437500</td>\n",
       "      <td>5.000000</td>\n",
       "      <td>2.363281</td>\n",
       "      <td>1.907227</td>\n",
       "      <td>1.691406</td>\n",
       "      <td>1.473633</td>\n",
       "      <td>1.410156</td>\n",
       "      <td>1.230469</td>\n",
       "      <td>0.961914</td>\n",
       "      <td>...</td>\n",
       "      <td>-2.843940</td>\n",
       "      <td>-3.013173</td>\n",
       "      <td>-2.774787</td>\n",
       "      <td>-3.082129</td>\n",
       "      <td>0.410979</td>\n",
       "      <td>0.037858</td>\n",
       "      <td>10.0</td>\n",
       "      <td>-1.205873</td>\n",
       "      <td>0</td>\n",
       "      <td>1</td>\n",
       "    </tr>\n",
       "  </tbody>\n",
       "</table>\n",
       "<p>5 rows × 66 columns</p>\n",
       "</div>"
      ],
      "text/plain": [
       "   Cpfcan_pt0  Cpfcan_pt1  Cpfcan_pt2  Cpfcan_pt3  Cpfcan_pt4  Cpfcan_pt5  \\\n",
       "0   22.390625    8.460938    7.640625    2.712891    2.423828    1.915039   \n",
       "1   14.210938    5.058594    4.914062    4.488281    4.335938    3.667969   \n",
       "2    8.828125    3.658203    1.439453    1.288086    0.772461    0.737793   \n",
       "3    9.109375    5.687500    2.595703    2.337891    2.035156    1.505859   \n",
       "4    8.960938    7.437500    5.000000    2.363281    1.907227    1.691406   \n",
       "\n",
       "   Cpfcan_pt6  Cpfcan_pt7  Cpfcan_pt8  Cpfcan_pt9    ...     Npfcan_phi6  \\\n",
       "0    0.895020    0.758301    0.651855    0.562988    ...       -0.888218   \n",
       "1    3.531250    2.900391    2.341797    1.716797    ...        0.526001   \n",
       "2    0.000000    0.000000    0.000000    0.000000    ...        0.000000   \n",
       "3    1.393555    1.278320    0.881348    0.865723    ...       -2.019097   \n",
       "4    1.473633    1.410156    1.230469    0.961914    ...       -2.843940   \n",
       "\n",
       "   Npfcan_phi7  Npfcan_phi8  Npfcan_phi9    QG_ptD  QG_axis2  QG_mult  \\\n",
       "0    -1.059401    -0.865647    -0.894262  0.437698  0.024528     11.0   \n",
       "1     0.753140     0.292091     0.367193  0.294737  0.054523     19.0   \n",
       "2     0.000000     0.000000     0.000000  0.424963  0.050448      9.0   \n",
       "3    -1.984820    -2.134338     0.000000  0.323849  0.044977     15.0   \n",
       "4    -3.013173    -2.774787    -3.082129  0.410979  0.037858     10.0   \n",
       "\n",
       "    jet_eta  isPhysG  isPhysUD  \n",
       "0 -0.928761        0         1  \n",
       "1  1.158933        1         0  \n",
       "2 -0.011784        0         1  \n",
       "3 -1.057207        1         0  \n",
       "4 -1.205873        0         1  \n",
       "\n",
       "[5 rows x 66 columns]"
      ]
     },
     "execution_count": 3,
     "metadata": {},
     "output_type": "execute_result"
    }
   ],
   "source": [
    "#Read data into a pandas DataFrame. Sorry this also takes a moment, approx half a minute\n",
    "data = read_root('./preprocessed_files.root')\n",
    "data.head()"
   ]
  },
  {
   "cell_type": "markdown",
   "metadata": {},
   "source": [
    "First we select a set of variables that is known to contain useful information that can be used to separate quarks and gluons. All of these are mostly resulting from gluons being twice as likely to split into two compared to quarks. These variables are:\n",
    "\n",
    "__Jet multiplicity__. The number of charged particles in the jet. One would expect there to be on average more particles in a gluon jet than a quark jet.\n",
    "\n",
    "__Jet energy sharing variable__, $p_\\text{T}D$. Describes how evenly the energy is split between the particles inside the jet. Quark jets tend to have the energy centered mostly to a few particles, whereas gluon jets have their energy more evenly spread to all the constituent particles.\n",
    "\n",
    "__Jet minor axis__, $\\sigma_{2}$. Describes the shape of the jet. The gluon jets are wider on average compared to quark jets.\n",
    "\n",
    "Separating the relevant features from our dataframe and forming a binary target that is 1 if the jet is from a gluon and 0 if its from a quark "
   ]
  },
  {
   "cell_type": "code",
   "execution_count": 4,
   "metadata": {},
   "outputs": [
    {
     "data": {
      "text/html": [
       "<div>\n",
       "<style scoped>\n",
       "    .dataframe tbody tr th:only-of-type {\n",
       "        vertical-align: middle;\n",
       "    }\n",
       "\n",
       "    .dataframe tbody tr th {\n",
       "        vertical-align: top;\n",
       "    }\n",
       "\n",
       "    .dataframe thead th {\n",
       "        text-align: right;\n",
       "    }\n",
       "</style>\n",
       "<table border=\"1\" class=\"dataframe\">\n",
       "  <thead>\n",
       "    <tr style=\"text-align: right;\">\n",
       "      <th></th>\n",
       "      <th>QG_mult</th>\n",
       "      <th>QG_ptD</th>\n",
       "      <th>QG_axis2</th>\n",
       "      <th>target</th>\n",
       "    </tr>\n",
       "  </thead>\n",
       "  <tbody>\n",
       "    <tr>\n",
       "      <th>0</th>\n",
       "      <td>11.0</td>\n",
       "      <td>0.437698</td>\n",
       "      <td>0.024528</td>\n",
       "      <td>0</td>\n",
       "    </tr>\n",
       "    <tr>\n",
       "      <th>1</th>\n",
       "      <td>19.0</td>\n",
       "      <td>0.294737</td>\n",
       "      <td>0.054523</td>\n",
       "      <td>1</td>\n",
       "    </tr>\n",
       "    <tr>\n",
       "      <th>2</th>\n",
       "      <td>9.0</td>\n",
       "      <td>0.424963</td>\n",
       "      <td>0.050448</td>\n",
       "      <td>0</td>\n",
       "    </tr>\n",
       "    <tr>\n",
       "      <th>3</th>\n",
       "      <td>15.0</td>\n",
       "      <td>0.323849</td>\n",
       "      <td>0.044977</td>\n",
       "      <td>1</td>\n",
       "    </tr>\n",
       "    <tr>\n",
       "      <th>4</th>\n",
       "      <td>10.0</td>\n",
       "      <td>0.410979</td>\n",
       "      <td>0.037858</td>\n",
       "      <td>0</td>\n",
       "    </tr>\n",
       "  </tbody>\n",
       "</table>\n",
       "</div>"
      ],
      "text/plain": [
       "   QG_mult    QG_ptD  QG_axis2  target\n",
       "0     11.0  0.437698  0.024528       0\n",
       "1     19.0  0.294737  0.054523       1\n",
       "2      9.0  0.424963  0.050448       0\n",
       "3     15.0  0.323849  0.044977       1\n",
       "4     10.0  0.410979  0.037858       0"
      ]
     },
     "execution_count": 4,
     "metadata": {},
     "output_type": "execute_result"
    }
   ],
   "source": [
    "#Selecting the interesting features\n",
    "df_=data[['QG_mult','QG_ptD','QG_axis2']].copy()\n",
    "\n",
    "#Adding a column containing the target\n",
    "df_['target']=data['isPhysG']\n",
    "\n",
    "df_.head()"
   ]
  },
  {
   "cell_type": "markdown",
   "metadata": {},
   "source": [
    "Its always a good idea to inspect the distributions before starting to put too much effort into the machine learning task, just to see if there is something obvious visible in the data. Let us plot the variables to histograms."
   ]
  },
  {
   "cell_type": "code",
   "execution_count": 5,
   "metadata": {},
   "outputs": [
    {
     "data": {
      "image/png": "[encoded data removed]",
      "text/plain": [
       "<matplotlib.figure.Figure at 0x7f45ce02b2d0>"
      ]
     },
     "metadata": {},
     "output_type": "display_data"
    }
   ],
   "source": [
    "columns=['QG_mult','QG_ptD','QG_axis2']\n",
    "binnings=[np.arange(0.0,36.0,1.0),np.arange(0.0,1.0,0.1),np.arange(0.0,0.2,0.01)]\n",
    "ind=0\n",
    "fig,axes = plt.subplots(1,3,figsize=(20,10))\n",
    "for column in columns:\n",
    "    axes[ind].hist(df_[df_['target']==1][column],bins=binnings[ind],alpha=0.8,label='Gluon',normed=1)\n",
    "    axes[ind].hist(df_[df_['target']==0][column],bins=binnings[ind],alpha=0.8,label='Quark',normed=1)\n",
    "    axes[ind].set_xlabel(column)\n",
    "    axes[ind].legend()\n",
    "    ind=ind+1"
   ]
  },
  {
   "cell_type": "markdown",
   "metadata": {},
   "source": [
    "Clearly there are some differences. For example chosing jets with more than 20 charged particles and minor axis value larger than 0.1 would contain mostly gluon jets. However we can do better by using a machine learning algorithm to learn these decision rules for us.\n",
    "\n",
    "# Keras - Tool for Deep Learning\n",
    "\n",
    "Keras provides a very simple interface to very powerful deep learning libraries like TensorFlow by Google. It is the framework of preference for many in the particle physics community. Next we'll demonstrate that with just a few lines of code, we can produce a neural network classifier that is able to separate quark and gluon jets quite well."
   ]
  },
  {
   "cell_type": "code",
   "execution_count": 6,
   "metadata": {},
   "outputs": [
    {
     "data": {
      "text/plain": [
       "<keras.callbacks.History at 0x7f44e8fd3590>"
      ]
     },
     "execution_count": 6,
     "metadata": {},
     "output_type": "execute_result"
    },
    {
     "name": "stdout",
     "output_type": "stream",
     "text": [
      "\n"
     ]
    },
    {
     "name": "stderr",
     "output_type": "stream",
     "text": [
      "Using TensorFlow backend.\n",
      "2017-11-15 18:09:11.227644: I tensorflow/compiler/xla/service/platform_util.cc:58] platform Host present with 4 visible devices\n",
      "2017-11-15 18:09:11.228253: I tensorflow/compiler/xla/service/service.cc:183] XLA service 0x10a8be30 executing computations on platform Host. Devices:\n",
      "2017-11-15 18:09:11.228344: I tensorflow/compiler/xla/service/service.cc:191]   StreamExecutor device (0): <undefined>, <undefined>\n"
     ]
    }
   ],
   "source": [
    "#Importing some functions from keras and initializing it\n",
    "\n",
    "import tensorflow as tf\n",
    "import keras.backend as K\n",
    "sess = tf.Session()\n",
    "K.set_session(sess)\n",
    "\n",
    "from keras_tqdm import TQDMNotebookCallback\n",
    "from keras.models import Model\n",
    "from keras.layers import Input,Dense\n",
    "from sklearn.utils import class_weight\n",
    "\n",
    "#Split the data into training and test sample so that we test on data we havent\n",
    "#used in training. We split target to a separate dataframe so we dont use it in\n",
    "#training\n",
    "train_x,test = train_test_split(df_,test_size=0.15,random_state=7)\n",
    "train_y = np.array(train_x.target)\n",
    "train_x = np.array(train_x.drop(['target'],axis=1))\n",
    "\n",
    "#Defining the network shape\n",
    "a_inp = Input(shape=(train_x.shape[1],))\n",
    "a = Dense(50,activation='relu')(a_inp)\n",
    "a = Dense(50,activation='relu')(a)\n",
    "a = Dense(50,activation='relu')(a)\n",
    "a_out = Dense(1,activation='sigmoid')(a)\n",
    "model = Model(inputs=a_inp,outputs=a_out)\n",
    "model.compile(loss='binary_crossentropy',optimizer='Adam',metrics=['acc'])\n",
    "\n",
    "#weight the training samples so that there is equal weight on gluon and quark jets\n",
    "#even if there are different amount of them\n",
    "class_weights = class_weight.compute_class_weight('balanced',np.unique(train_y),train_y[:])\n",
    "\n",
    "#Perform the training\n",
    "model.fit(train_x,train_y,epochs=10,batch_size=1024,class_weight=class_weights,\n",
    "         validation_split=0.1,shuffle=True,verbose=0, callbacks=[TQDMNotebookCallback()])"
   ]
  },
  {
   "cell_type": "markdown",
   "metadata": {},
   "source": [
    "Using the trained model, we can predict the classes of jets based on the three input variables. Let as create predictions for the test set and see how much our predictions separate the quark and gluon jets from each other."
   ]
  },
  {
   "cell_type": "code",
   "execution_count": 7,
   "metadata": {},
   "outputs": [
    {
     "data": {
      "text/plain": [
       "<matplotlib.text.Text at 0x7f44c1fa2890>"
      ]
     },
     "execution_count": 7,
     "metadata": {},
     "output_type": "execute_result"
    },
    {
     "data": {
      "image/png": "[encoded data removed]",
      "text/plain": [
       "<matplotlib.figure.Figure at 0x7f45cdd30550>"
      ]
     },
     "metadata": {},
     "output_type": "display_data"
    },
    {
     "name": "stderr",
     "output_type": "stream",
     "text": [
      "/usr/local/lib/python2.7/dist-packages/pandas/core/indexing.py:357: SettingWithCopyWarning: \n",
      "A value is trying to be set on a copy of a slice from a DataFrame.\n",
      "Try using .loc[row_indexer,col_indexer] = value instead\n",
      "\n",
      "See the caveats in the documentation: http://pandas.pydata.org/pandas-docs/stable/indexing.html#indexing-view-versus-copy\n",
      "  self.obj[key] = _infer_fill_value(value)\n",
      "/usr/local/lib/python2.7/dist-packages/pandas/core/indexing.py:537: SettingWithCopyWarning: \n",
      "A value is trying to be set on a copy of a slice from a DataFrame.\n",
      "Try using .loc[row_indexer,col_indexer] = value instead\n",
      "\n",
      "See the caveats in the documentation: http://pandas.pydata.org/pandas-docs/stable/indexing.html#indexing-view-versus-copy\n",
      "  self.obj[item] = s\n"
     ]
    }
   ],
   "source": [
    "test.loc[:,'predictions']=model.predict(np.array(test[['QG_mult','QG_ptD','QG_axis2']].copy()))\n",
    "\n",
    "plt.clf()\n",
    "binning=np.arange(0.0,1.0,0.05)\n",
    "plt.hist(test[test['target']==1]['predictions'],bins=binning,alpha=0.8,label=\"Gluons\",normed=1)\n",
    "plt.hist(test[test['target']==0]['predictions'],bins=binning,alpha=0.8,label=\"Quarks\",normed=1)\n",
    "plt.legend()\n",
    "plt.xlabel('DNN output value')\n",
    "plt.title('DNN classifier')"
   ]
  },
  {
   "cell_type": "code",
   "execution_count": 8,
   "metadata": {},
   "outputs": [
    {
     "data": {
      "image/png": "[encoded data removed]",
      "text/plain": [
       "<matplotlib.figure.Figure at 0x7f45cdd22e90>"
      ]
     },
     "metadata": {},
     "output_type": "display_data"
    }
   ],
   "source": [
    "from sklearn.metrics import roc_auc_score,roc_curve,auc\n",
    "fpr,tpr, thresholds  = roc_curve(np.array(test['target']),np.array(test['predictions']))\n",
    "roc_auc = auc(fpr, tpr)\n",
    "\n",
    "\n",
    "plt.clf()\n",
    "plt.plot(fpr,tpr,'b',label='Classifier AUC = %0.2f'% roc_auc)\n",
    "plt.plot([0,1],[0,1],'k--')\n",
    "plt.xlim([0.0,1.0])\n",
    "plt.ylim([0.0,1.0])\n",
    "plt.legend(loc='lower right')\n",
    "plt.title(\"Receiver Operating Characteristic\")\n",
    "plt.ylabel('True positive rate')\n",
    "plt.xlabel('False positive rate')\n",
    "plt.savefig('roc_curve.png')"
   ]
  },
  {
   "cell_type": "markdown",
   "metadata": {},
   "source": [
    "The new variable shows better separation between quark and gluon jets than any of the three variables on their own. However the strength of Deep neural networks is not in the use of this type of high level variables, but instead using very low level features and find a new representation of the data that optimizes the discrimination power. \n",
    "\n",
    "The dataset contains variables with prefixes Cpfcand and Npfcand. These are the particles that belong to the jet. We try adding this information and use a larger network to see if it can extract extra information from these low level features to discriminate between the quarks and gluons better."
   ]
  },
  {
   "cell_type": "code",
   "execution_count": 9,
   "metadata": {},
   "outputs": [
    {
     "data": {
      "text/plain": [
       "<keras.callbacks.History at 0x7f44a0508e10>"
      ]
     },
     "execution_count": 9,
     "metadata": {},
     "output_type": "execute_result"
    },
    {
     "name": "stdout",
     "output_type": "stream",
     "text": [
      "\n"
     ]
    }
   ],
   "source": [
    "data_=data.copy()\n",
    "data_['target']=data['isPhysG']\n",
    "data_=data_.drop(['isPhysG','isPhysUD'],axis=1)\n",
    "train_x,test = train_test_split(data_,test_size=0.15,random_state=7)\n",
    "train_y = np.array(train_x.target)\n",
    "train_x = np.array(train_x.drop(['target'],axis=1))\n",
    "\n",
    "a_inp = Input(shape=(train_x.shape[1],))\n",
    "a = Dense(250,activation='relu')(a_inp)\n",
    "a = Dense(100,activation='relu')(a)\n",
    "a = Dense(50,activation='relu')(a)\n",
    "a_out = Dense(1,activation='sigmoid')(a)\n",
    "model = Model(inputs=a_inp,outputs=a_out)\n",
    "model.compile(loss='binary_crossentropy',optimizer='Adam',metrics=['acc'])\n",
    "\n",
    "model.fit(train_x,train_y,epochs=6,batch_size=1024,class_weight=class_weights,\n",
    "         validation_split=0.1,shuffle=True,verbose=0, callbacks=[TQDMNotebookCallback()])"
   ]
  },
  {
   "cell_type": "code",
   "execution_count": 10,
   "metadata": {},
   "outputs": [
    {
     "data": {
      "text/plain": [
       "<matplotlib.text.Text at 0x7f44bc521e10>"
      ]
     },
     "execution_count": 10,
     "metadata": {},
     "output_type": "execute_result"
    },
    {
     "data": {
      "image/png": "[encoded data removed]",
      "text/plain": [
       "<matplotlib.figure.Figure at 0x7f44c1f90550>"
      ]
     },
     "metadata": {},
     "output_type": "display_data"
    }
   ],
   "source": [
    "test.loc[:,'predictions']=model.predict(np.array(test.drop(['target'],axis=1).copy()))\n",
    "\n",
    "plt.clf()\n",
    "binning=np.arange(0.0,1.0,0.05)\n",
    "plt.hist(test[test['target']==1]['predictions'],bins=binning,alpha=0.8,label=\"Gluons\",normed=1)\n",
    "plt.hist(test[test['target']==0]['predictions'],bins=binning,alpha=0.8,label=\"Quarks\",normed=1)\n",
    "plt.legend()\n",
    "plt.xlabel('DNN output value')\n",
    "plt.title('DNN classifier')"
   ]
  },
  {
   "cell_type": "code",
   "execution_count": 12,
   "metadata": {},
   "outputs": [
    {
     "data": {
      "image/png": "[encoded data removed]",
      "text/plain": [
       "<matplotlib.figure.Figure at 0x7f45cdde3dd0>"
      ]
     },
     "metadata": {},
     "output_type": "display_data"
    }
   ],
   "source": [
    "from sklearn.metrics import roc_auc_score,roc_curve,auc\n",
    "fpr_,tpr_, thresholds  = roc_curve(np.array(test['target']),np.array(test['predictions']))\n",
    "roc_auc_ = auc(fpr_, tpr_)\n",
    "\n",
    "\n",
    "plt.clf()\n",
    "plt.plot(fpr,tpr,'b',label='Before AUC = %0.2f'% roc_auc)\n",
    "plt.plot(fpr_,tpr_,'r',label='After AUC = %0.2f'% roc_auc_)\n",
    "plt.plot([0,1],[0,1],'k--')\n",
    "plt.xlim([0.0,1.0])\n",
    "plt.ylim([0.0,1.0])\n",
    "plt.legend(loc='lower right')\n",
    "plt.title(\"Receiver Operating Characteristic\")\n",
    "plt.ylabel('True positive rate')\n",
    "plt.xlabel('False positive rate')\n",
    "plt.savefig('roc_curve.png')\n"
   ]
  },
  {
   "cell_type": "markdown",
   "metadata": {},
   "source": [
    "Adding new variables increased the accuracy of the classifier. However the performance can be further enhanced with more complex networks, preprocessing input variables with PCA whitening, and adding more input variables. But for this exercise this is enough."
   ]
  }
 ],
 "metadata": {
  "kernelspec": {
   "display_name": "Python 3",
   "language": "python",
   "name": "python3"
  },
  "language_info": {
   "codemirror_mode": {
    "name": "ipython",
    "version": 3
   },
   "file_extension": ".py",
   "mimetype": "text/x-python",
   "name": "python",
   "nbconvert_exporter": "python",
   "pygments_lexer": "ipython3",
   "version": "3.7.0"
  },
  "widgets": {
   "state": {
    "08a6f31b9a8c4a029404f1aaf223f74a": {
     "views": [
      {
       "cell_index": 9
      }
     ]
    },
    "0d1e8b990608488193406b09b99a5e92": {
     "views": [
      {
       "cell_index": 9
      }
     ]
    },
    "20fb655374694404809ec4d213f8e7d6": {
     "views": [
      {
       "cell_index": 9
      }
     ]
    },
    "2212de19566f4041b5ebe53a9fda84ec": {
     "views": [
      {
       "cell_index": 14
      }
     ]
    },
    "599e0a034ef64d9fae2ae6ab96977ad4": {
     "views": [
      {
       "cell_index": 9
      }
     ]
    },
    "5b0ff9987cb348ef8643374a849056ba": {
     "views": [
      {
       "cell_index": 14
      }
     ]
    },
    "5efe7190f5b04d739ff952cf2568d5b9": {
     "views": [
      {
       "cell_index": 9
      }
     ]
    },
    "6a1a2dcc5c104c1691cb6db155d0ff2d": {
     "views": [
      {
       "cell_index": 9
      }
     ]
    },
    "a66855a84a6647e4973583b782e299eb": {
     "views": [
      {
       "cell_index": 14
      }
     ]
    },
    "aaacce64a9ab457faaf6c877d9e4d016": {
     "views": [
      {
       "cell_index": 9
      }
     ]
    },
    "b4fe8611ac364e2195a4192ff95554db": {
     "views": [
      {
       "cell_index": 14
      }
     ]
    },
    "b89afc9a81fb41f7a6210b8f41d225c5": {
     "views": [
      {
       "cell_index": 14
      }
     ]
    },
    "c0504b8d91a344d69adc3c8ad57409d4": {
     "views": [
      {
       "cell_index": 9
      }
     ]
    },
    "d1b34b9722fd48dea752c72d5090baef": {
     "views": [
      {
       "cell_index": 9
      }
     ]
    },
    "deeef71954134001853319ac11d27f96": {
     "views": [
      {
       "cell_index": 14
      }
     ]
    },
    "fcdd1c99847343b89ac7e9ede4887567": {
     "views": [
      {
       "cell_index": 14
      }
     ]
    },
    "fd877073ebbe4aaba1567d9b6631d03b": {
     "views": [
      {
       "cell_index": 9
      }
     ]
    },
    "ff6d2301d4354a61bca3e452e0b7b871": {
     "views": [
      {
       "cell_index": 9
      }
     ]
    }
   },
   "version": "1.2.0"
  }
 },
 "nbformat": 4,
 "nbformat_minor": 2
}
