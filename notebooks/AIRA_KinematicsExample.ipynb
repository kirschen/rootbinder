{
 "cells": [
  {
   "cell_type": "code",
   "execution_count": null,
   "metadata": {},
   "outputs": [],
   "source": [
    "import ROOT      \n",
    "%jsroot on\n",
    "import math\n",
    "from array import array\n",
    "                                                                                                                                                                                                                                              \n",
    "  # Shoot pions into a proton target (i.e. hydrogen)\n",
    "\n",
    "pi = ROOT.TLorentzVector()\n",
    "p = ROOT.TLorentzVector()\n",
    "pbar = ROOT.TLorentzVector()\n",
    "\n",
    "mom_arr, invmassfix_arr, invmasscoll_arr = array( 'd' ), array( 'd' ), array( 'd' )\n",
    "\n",
    "  # Scan momenta in steps of 100 MeV up to 10 GeV\n",
    "mom = 0\n",
    "momstep = 100\n",
    "mommax = 10e3\n",
    "while (mom < mommax):\n",
    "  mom_arr.append(mom)\n",
    "  # Fixed target experiment (pion on proton)\n",
    "  p.SetPxPyPzE(0,0,0,938.28)\n",
    "  pi.SetXYZM(mom,0,0,139.57)\n",
    "  invmassfix = (p+pi).M()\n",
    "  invmassfix_arr.append(invmassfix)\n",
    "  #gfix.SetPoint(gfix.GetN(), mom, invmassfix)\n",
    "\n",
    "    # Collider (proton on antiproton)\n",
    "  p.SetXYZM(mom,0,0,938.28)\n",
    "  pbar.SetXYZM(-mom,0,0,938.28)\n",
    "  invmasscoll = (p+pbar).M()\n",
    "  invmasscoll_arr.append(invmasscoll)\n",
    "  #gcoll.SetPoint(gcoll.GetN(), mom, invmasscoll)\n",
    "\n",
    "  mom += momstep\n",
    "\n",
    "    \n",
    "n = len(mom_arr)\n",
    "    # Scan momenta in steps of 100 MeV up to 10 GeV\n",
    "gfix = ROOT.TGraph(n,mom_arr,invmassfix_arr)\n",
    "gcoll = ROOT.TGraph(n,mom_arr,invmasscoll_arr)"
   ]
  },
  {
   "cell_type": "code",
   "execution_count": null,
   "metadata": {},
   "outputs": [],
   "source": [
    "\n",
    "  # Plot graph of invariant mass versus pion momentum\n",
    "c = ROOT.TCanvas();\n",
    "\n",
    "gcoll.SetMarkerStyle(ROOT.kFullCircle)\n",
    "gcoll.Draw(\"AP\")\n",
    "gcoll.SetTitle(\"Invariant mass versus projectile momentum\")\n",
    "gcoll.GetXaxis().SetTitle(\"Projectile (#pi, p/#bar{p}) momentum (MeV/c)\")\n",
    "gcoll.GetYaxis().SetTitle(\"Invariant mass (MeV)\")\n",
    "\n",
    "gfix.SetMarkerStyle(ROOT.kOpenCircle)\n",
    "gfix.Draw(\"SAMEP\")\n",
    "\n",
    "fcoll = ROOT.TF1(\"fcoll\",\"2 * x\",0,mommax)\n",
    "fcoll.Draw(\"SAME\")\n",
    "ffix = ROOT.TF1(\"ffix\",\"sqrt(2*938.28) * sqrt(x)\",0,mommax)\n",
    "ffix.Draw(\"SAME\")\n",
    "\n",
    "c.Print(\"out.pdf\")"
   ]
  },
  {
   "cell_type": "code",
   "execution_count": null,
   "metadata": {},
   "outputs": [],
   "source": [
    "c.Draw()"
   ]
  },
  {
   "cell_type": "code",
   "execution_count": null,
   "metadata": {},
   "outputs": [],
   "source": []
  }
 ],
 "metadata": {
  "kernelspec": {
   "display_name": "Python 3",
   "language": "python",
   "name": "python3"
  },
  "language_info": {
   "codemirror_mode": {
    "name": "ipython",
    "version": 3
   },
   "file_extension": ".py",
   "mimetype": "text/x-python",
   "name": "python",
   "nbconvert_exporter": "python",
   "pygments_lexer": "ipython3",
   "version": "3.7.10"
  }
 },
 "nbformat": 4,
 "nbformat_minor": 1
}
