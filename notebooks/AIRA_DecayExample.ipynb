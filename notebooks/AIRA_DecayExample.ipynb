{
 "cells": [
  {
   "cell_type": "code",
   "execution_count": null,
   "metadata": {},
   "outputs": [],
   "source": [
    "import ROOT      \n",
    "%jsroot on\n",
    "import math                                                                                                                                                                                                                                   \n",
    "                                                                                                                                                                                                                                              \n",
    "  # 1. Create a 2D histogram grid for atoms (even-even will be filled)                                                                                                                                                                        \n",
    "h2 = ROOT.TH2D(\"h2\", \"Time: 0.0 #times T_{1/2}\", 41, 0, 41, 41, 0, 41)                                                                                                                                                                        \n",
    "h2.SetFillColor(4) # atoms as filled blue boxes                                                                                                                                                                                               \n",
    "ROOT.gStyle.SetOptStat(0) # no displaying of statistics now                                                                                                                                                                                   \n",
    "                                                                                                                                                                                                                                              \n",
    "h2_b = h2.Clone(\"h2_b\") # h5                                                                                                                                                                                                                  \n",
    "h2_b.SetFillColor(8) # h5                                                                                                                                                                                                                     \n",
    "                                                                                                                                                                                                                                              \n",
    "  # 2. Set an atom at even-even grid point                                                                                                                                                                                                    \n",
    "  # ROOT histogram indexing goes from 1 to N, unlike standard C;                                                                                                                                                                              \n",
    "  # bins 0 and N+1 are under and overflow bins                                                                                                                                                                                                \n",
    "for ibinx in range(1,h2.GetNbinsX()):                                                                                                                                                                                                         \n",
    "  for ibiny in range(1,h2.GetNbinsY()):                                                                                                                                                                                                       \n",
    "      # Set atom (1) at an even-even point                                                                                                                                                                                                    \n",
    "    if (ibinx%2==0 and ibiny%2==0):                                                                                                                                                                                                           \n",
    "      h2.SetBinContent(ibinx, ibiny, 1)                        "
   ]
  },
  {
   "cell_type": "code",
   "execution_count": null,
   "metadata": {},
   "outputs": [],
   "source": [
    " # 3. Create graphical area and draw initial state                                                                                                                                                                                           \n",
    "c1 = ROOT.TCanvas(\"c1\",\"Decay simulation\",600,600)                                                                                                                                                                                            \n",
    "h2.Draw(\"BOX\")                                                                                                                                                                                                                                \n",
    "h2_b.Draw(\"SAME BOX\")    # h5                                                                                                                                                                                                                 \n",
    "c1.SaveAs(\"decays2.gif\") # h5                                                                                                                                                                                                                 \n",
    "                                                                                                                                                                                                                                              \n",
    "c1.Draw()"
   ]
  },
  {
   "cell_type": "code",
   "execution_count": null,
   "metadata": {},
   "outputs": [],
   "source": [
    "  # 4. Calculate probability P for an atom to decay during dt (dt=0.1*T_{1/2})                                                                                                                                                                \n",
    "dt = 0.1 # in units of T_{1/2} = 1                                                                                                                                                                                                            \n",
    "P_a = (1 - math.exp(-math.log(2)*dt)) # quiz: what do you get with dt=1 ?                                                                                                                                                                     \n",
    "P_b = (1 - math.exp(-math.log(2)*dt/0.5)) # h5                                                                                                                                                                                                \n",
    "                                                                                                                                                                                                                                              \n",
    "  # 5. Run simulation of decay up to Tmax                                                                                                                                                                                                     \n",
    "Tmax = 3.9 # end time in units of T_{1/2}                                                                                                                                                                                                     \n",
    "nsteps = int(Tmax / dt);                                                                                                                                                                                                                      \n",
    "                                                                                                                                                                                                                                              \n",
    "  # Create 1D histogram for logging the times of exponential decay                                                                                                                                                                            \n",
    "hdecay_a = ROOT.TH1D(\"hdecay_a\",\"Decay times;time [T_{1/2}];\"                                                                                                                                                                                 \n",
    "                            \"Number of atoms decayed per 0.1#timesT_{1/2}\",                                                                                                                                                                   \n",
    "                            nsteps, 0., Tmax)                                                                                                                                                                                                 \n",
    "hdecay_b = hdecay_a.Clone(\"hdecay_b\") # h5                                                                                                                                                                                                    \n"
   ]
  },
  {
   "cell_type": "code",
   "execution_count": null,
   "metadata": {},
   "outputs": [],
   "source": [
    "for it in range(1,nsteps+1):                                                                                                                                                                                                                  \n",
    "  for ibinx in range(1,h2.GetNbinsX()+1):                                                                                                                                                                                                     \n",
    "    for ibiny in range(1,h2.GetNbinsY()+1):                                                                                                                                                                                                   \n",
    "                                                                                                                                                                                                                                              \n",
    "      if (h2.GetBinContent(ibinx,ibiny)!=0 and ROOT.gRandom.Rndm()<P_a):                                                                                                                                                                      \n",
    "                                                                                                                                                                                                                                              \n",
    "        h2.SetBinContent(ibinx, ibiny, 0) # atom decayed! 1->0                                                                                                                                                                                \n",
    "        h2_b.SetBinContent(ibinx, ibiny, 1) # h5: ...and became atom B                                                                                                                                                                        \n",
    "        hdecay_a.Fill(it*dt)                                                                                                                                                                                                                  \n",
    "                                                                                                                                                                                                                                              \n",
    "        # h5: We can calculate atom B decays either before or after atom A                                                                                                                                                                    \n",
    "        # h5: decays, which means results can differ for large dt, but                                                                                                                                                                        \n",
    "        # h5: approach each other for infitesimally short dt                                                                                                                                                                                  \n",
    "        # h5: We shall not deal with the correction terms here                                                                                                                                                                                \n",
    "      if (h2_b.GetBinContent(ibinx,ibiny)!=0 and ROOT.gRandom.Rndm()<P_b):                                                                                                                                                                    \n",
    "                                                                                                                                                                                                                                              \n",
    "        h2_b.SetBinContent(ibinx, ibiny, 0)    # h5: atom decayed!                                                                                                                                                                            \n",
    "        hdecay_b.Fill(it*dt)                   # h5                                                                                                                                                                                           \n",
    "                                                                                                                                                                                                                                              \n",
    "                                                                                                                                                                                                                                              \n",
    "    # Set new time on title and redraw the grid of atoms                                                                                                                                                                                      \n",
    "  h2.SetTitle(ROOT.Form(\"Time: \"+ str(it*dt)+ \" #times T_{1/2}\"))                                                                                                                                                                             \n",
    "  h2.Draw(\"BOX\")                                                                                                                                                                                                                              \n",
    "  h2_b.Draw(\"BOX SAME\") # h5                                                                                                                                                                                                                  \n",
    "                                                                                                                                                                                                                                              \n",
    "    # Store result in animated gif file, with 50 ms delay                                                                                                                                                                                     \n",
    "  c1.SaveAs(\"decays2.gif+50\") # h5                                                                                                                                                                                                            \n",
    "                                                                                                                                                                                                                                              \n",
    "  # Fit exponential decay function to histogram                                                                                                                                                                                               \n",
    "f1_a = ROOT.TF1(\"f1_a\",\"[0]*(1-exp(-log(2)*0.1)) * exp(-log(2)/[1] * x)\")                                                                                                                                                                     \n",
    "f1_a.SetParameters(hdecay_a.GetBinContent(0), 1) # N0, T_{1/2}                                                                                                                                                                                \n",
    "hdecay_a.Fit(f1_a);                                                                                                                                                                                                                           \n",
    "                                                                                                                                                                                                                                              \n",
    "  # Use shape of formula for N_B on slide 28 of l21-8.pdf           // h5                                                                                                                                                                     \n",
    "  # Interpretation of the fit parameters is left to the reader      // h5                                                                                                                                                                     \n",
    "f1_b = ROOT.TF1(\"f1_b\",\"[0]*exp([1]*x) - [2]*exp([3]*x)\")     # h5                                                                                                                                                                            \n",
    "f1_b.SetParameters(80, -0.693, 80, -1.38)                        # h5                                                                                                                                                                         \n",
    "f1_b.FixParameter(1, -0.693)                                     # h5                                                                                                                                                                         \n",
    "f1_b.FixParameter(3, -1.38)                                      # h5                                                                                                                                                                         \n",
    "f1_b.SetLineColor(1)                                      # h5                                                                                                                                                                                \n",
    "hdecay_b.Fit(f1_b)                                               # h5                                                                                                                                                                         \n",
    "                                                                                                                                                                                                                                              \n",
    "hdecay_a.Draw()                                                                                                                                                                                                                               \n",
    "hdecay_b.SetLineColor(1)   # h5                                                                                                                                                                                                               \n",
    "hdecay_b.Draw(\"SAME\")             # h5                                                                                                                                                                                                        \n",
    "c1.SaveAs(\"decays2_expdecay.pdf\") # h5                            "
   ]
  },
  {
   "cell_type": "code",
   "execution_count": null,
   "metadata": {},
   "outputs": [],
   "source": [
    "c1.Draw()"
   ]
  },
  {
   "cell_type": "markdown",
   "metadata": {},
   "source": [
    "![AnimatedGIF](decays2.gif \"Animated gif of decays\")"
   ]
  },
  {
   "cell_type": "code",
   "execution_count": null,
   "metadata": {},
   "outputs": [],
   "source": []
  }
 ],
 "metadata": {
  "kernelspec": {
   "display_name": "Python 3",
   "language": "python",
   "name": "python3"
  },
  "language_info": {
   "codemirror_mode": {
    "name": "ipython",
    "version": 3
   },
   "file_extension": ".py",
   "mimetype": "text/x-python",
   "name": "python",
   "nbconvert_exporter": "python",
   "pygments_lexer": "ipython3",
   "version": "3.7.10"
  }
 },
 "nbformat": 4,
 "nbformat_minor": 1
}
